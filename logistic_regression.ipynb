{
 "cells": [
  {
   "cell_type": "code",
   "execution_count": 270,
   "metadata": {},
   "outputs": [
    {
     "name": "stdout",
     "output_type": "stream",
     "text": [
      "0.5\n",
      "0.8807970779778823\n"
     ]
    }
   ],
   "source": [
    "import numpy as np\n",
    "#Sigmoid func\n",
    "\n",
    "def sigmoid(z):\n",
    "    return 1/(1 + np.exp(- z))\n",
    "\n",
    "print(sigmoid(0))\n",
    "print(sigmoid(2))"
   ]
  },
  {
   "cell_type": "code",
   "execution_count": 271,
   "metadata": {},
   "outputs": [
    {
     "name": "stdout",
     "output_type": "stream",
     "text": [
      "0\n",
      "[[0.]\n",
      " [0.]]\n"
     ]
    }
   ],
   "source": [
    "import numpy as np\n",
    "\n",
    "#Init func\n",
    "\n",
    "def initialize_with_zeros(dim):\n",
    "    return np.zeros([dim, 1]), 0\n",
    "\n",
    "c, d = initialize_with_zeros(2)\n",
    "print(d)\n",
    "print(c)"
   ]
  },
  {
   "cell_type": "code",
   "execution_count": 272,
   "metadata": {},
   "outputs": [
    {
     "name": "stdout",
     "output_type": "stream",
     "text": [
      "(array([[0.99845601],\n",
      "       [2.39507239]]), 0.001455578136784208, 5.801545319394553)\n"
     ]
    }
   ],
   "source": [
    "import numpy as np\n",
    "\n",
    "def propagate(w, b, X, Y):\n",
    "    z = np.dot(w.T,X) + b\n",
    "    a = sigmoid(z)\n",
    "    dz = a - Y\n",
    "    dw = 1 / X.shape[1] * np.dot(X,dz.T)\n",
    "    db = 1 / X.shape[1] * np.sum(dz)\n",
    "    cost = -1 / X.shape[1] * np.sum(np.dot(np.log(a), Y.T) + np.dot(np.log(1-a), (1-Y.T)))\n",
    "    return dw, db, cost\n",
    "print(propagate(np.array([[1.],[2.]]), 2., np.array([[1.,2.,-1.],[3.,4.,-3.2]]), np.array([[1,0,1]])))"
   ]
  },
  {
   "cell_type": "code",
   "execution_count": 273,
   "metadata": {},
   "outputs": [
    {
     "name": "stdout",
     "output_type": "stream",
     "text": [
      "{'w': array([[0.19033591],\n",
      "       [0.12259159]]), 'b': 1.9253598300845747}\n",
      "\n",
      "\n",
      "{'dw': array([[0.67752042],\n",
      "       [1.41625495]]), 'db': 0.21919450454067652}\n",
      "\n",
      "\n",
      "[5.801545319394553, 5.7409505028093335, 5.680375426895575, 5.619821667177627, 5.559290922630777, 5.4987850248644605, 5.4383059480708145, 5.3778558196064505, 5.31743693118918, 5.257051750930273, 5.1967029360407295, 5.136393346354229, 5.0761260586313774, 5.015904381700862, 4.955731872427952, 4.895612352538272, 4.835549926277942, 4.7755489989189925, 4.71561429608081, 4.6557508838423285, 4.595964189588867, 4.5362600235376345, 4.476644600852061, 4.417124564226807, 4.357707006833278, 4.298399495423375, 4.239210093432046, 4.180147383816733, 4.121220491375143, 4.062439104215671, 4.003813494033474, 3.9453545347773966, 3.88707371925397, 3.82898317317329, 3.7710956660899897, 3.7134246186439928, 3.6559841054874314, 3.598788853232609, 3.5418542327531086, 3.485196245157411, 3.4288315007655084, 3.3727771904490416, 3.3170510487520035, 3.261671308280287, 3.2066566449616545, 3.1520261139053503, 3.09779907576174, 3.0439951136709475, 2.9906339411123737, 2.9377353012070078, 2.8853188582848093, 2.833404082794996, 2.782010130904063, 2.7311557203791432, 2.680859004584204, 2.6311374466102264, 2.5820076957049856, 2.533485468253436, 2.4855854355790754, 2.4383211207810884, 2.391704806691144, 2.3457474568306047, 2.3004586509748832, 2.2558465366021174, 2.2119177971257997, 2.1686776374047385, 2.1261297866046034, 2.084276518069984, 2.043118685473982, 2.0026557741558935, 1.9628859662520686, 1.9238062179776763, 1.8854123472355346, 1.8476991296126815, 1.8106604007761153, 1.7742891632904003, 1.7385776959460097, 1.7035176637984835, 1.6691002272662274, 1.6353161488083263, 1.6021558958939395, 1.5696097391722992, 1.5376678449497094, 1.506320361270197, 1.4755574970747949, 1.4453695940773121, 1.4157471911388244, 1.386681081048879, 1.3581623597272192, 1.3301824679474354, 1.302733225753853, 1.2758068597973526, 1.2493960238565767, 1.2234938128402413, 1.198093770586379, 1.1731898917872727, 1.1487766183766432, 1.1248488307203233, 1.1014018339542855, 1.0784313398164707]\n"
     ]
    }
   ],
   "source": [
    "import numpy as np\n",
    "def optimize(w, b, X, Y, num_iterations, learning_rate):\n",
    "    costs = []\n",
    "    for i in range(num_iterations):\n",
    "        dw, db, cost = propagate(w, b, X, Y)\n",
    "        w -= dw * learning_rate\n",
    "        b -= db * learning_rate\n",
    "        costs.append(cost)\n",
    "    params = {'w': w, 'b': b}\n",
    "    grads = {'dw': dw, 'db': db}\n",
    "    return params, grads, costs\n",
    "params1, grads1, costs1 = (optimize(np.array([[1.],[2.]]), 2., np.array([[1.,2.,-1.],[3.,4.,-3.2]]), np.array([[1,0,1]]), num_iterations= 100, learning_rate = 0.009))\n",
    "print(params1)\n",
    "print(\"\\n\")\n",
    "print(grads1)\n",
    "print(\"\\n\")\n",
    "print(costs1)"
   ]
  },
  {
   "cell_type": "code",
   "execution_count": 274,
   "metadata": {},
   "outputs": [
    {
     "name": "stdout",
     "output_type": "stream",
     "text": [
      "[[1. 1. 0.]]\n"
     ]
    }
   ],
   "source": [
    "def predict(w, b, X):\n",
    "    z = np.dot(w.T,X) + b\n",
    "    Y_prediction = sigmoid(z)\n",
    "    Y_prediction[0] = [1 if item > 0.5 else 0  \n",
    "         for item in Y_prediction[0]]\n",
    "    return Y_prediction\n",
    "print(predict(np.array([[0.1124579],[0.23106775]]), - 0.3, np.array([[1.,-1.1,-3.2],[1.2,2.,0.1]])))"
   ]
  },
  {
   "cell_type": "code",
   "execution_count": 275,
   "metadata": {},
   "outputs": [],
   "source": [
    "from sklearn import metrics\n",
    "def model(X_train, Y_train, X_test, Y_test, num_iterations = 2000, learning_rate = 0.5):\n",
    "    w, b = initialize_with_zeros(X_train.shape[0])\n",
    "    params, gards, costs = optimize(w, b, X_train, Y_train, num_iterations, learning_rate)\n",
    "    Y_pred = predict(params['w'], (params['b']), X_test)\n",
    "    accuracy =  metrics.accuracy_score(Y_test,Y_pred[0])\n",
    "    d = {'w': params['w'], 'b': params['b'], 'accuracy': accuracy, 'costs': costs}\n",
    "    return d"
   ]
  },
  {
   "cell_type": "code",
   "execution_count": 277,
   "metadata": {},
   "outputs": [
    {
     "name": "stdout",
     "output_type": "stream",
     "text": [
      "[[1. 0. 0. 1. 0. 0. 1. 1. 0. 0. 1. 1. 0. 0. 0. 0. 1. 0. 0. 0. 1. 0. 0. 0.\n",
      "  0. 0. 0. 1. 0. 0. 0. 0. 0. 0. 0. 1. 0. 0. 0. 1. 0. 0. 0. 1. 1. 0. 0. 0.\n",
      "  0. 0. 0. 0. 1. 0. 0. 0. 0. 1. 0. 0. 1. 0. 0. 1. 1. 1. 1. 0. 0. 0. 0. 0.\n",
      "  0. 1. 1. 0. 0. 1. 0. 0. 0. 0. 0. 0. 0. 0. 0. 0. 1. 0. 0. 0. 0. 0. 1. 0.\n",
      "  0. 1. 1. 0. 0. 0. 0. 0. 1. 0. 0. 0. 0. 1. 0. 0. 1. 0. 1. 1. 0. 1. 0. 1.\n",
      "  0. 0. 0. 0. 0. 0. 0. 0. 0. 0. 0. 0. 0. 1. 0. 0. 0. 0. 1. 0. 0. 1. 0. 0.\n",
      "  0. 0. 0. 0. 0. 0. 0. 1. 0. 0. 1. 0. 1. 0. 0. 1. 1. 1. 0. 0. 1. 0. 0. 0.\n",
      "  0. 0. 0. 0. 0. 0. 1. 0. 0. 0. 0. 0. 0. 1. 0. 1. 0. 0. 1. 0. 0. 0. 0. 0.]]\n",
      "[1 0 0 1 0 0 1 1 0 0 1 1 0 0 0 0 1 0 0 0 1 1 0 0 0 0 0 0 0 0 0 0 0 0 0 1 1\n",
      " 0 0 0 0 0 0 1 1 0 0 1 1 1 0 0 1 0 0 0 0 1 1 1 1 0 0 1 1 1 1 0 0 0 0 0 0 0\n",
      " 1 0 0 0 0 0 0 0 0 0 0 0 1 0 1 0 0 0 0 0 0 0 1 0 1 1 0 0 0 0 0 1 0 0 0 1 0\n",
      " 1 1 1 1 1 0 0 0 1 0 0 0 0 0 0 0 1 0 0 0 0 0 1 0 1 0 1 1 0 0 0 0 0 1 0 0 0\n",
      " 0 1 0 1 0 0 1 0 0 0 1 1 1 1 0 0 0 1 0 0 0 0 0 0 1 1 0 0 0 0 0 0 1 1 0 1 1\n",
      " 0 1 1 1 0 0 0]\n",
      "{'w': array([[ 0.29294479],\n",
      "       [ 1.06155998],\n",
      "       [-0.21670689],\n",
      "       [ 0.09388758],\n",
      "       [-0.11870892],\n",
      "       [ 0.6936702 ],\n",
      "       [ 0.29605777],\n",
      "       [ 0.25904131]]), 'b': -0.839931174202807, 'accuracy': 0.8020833333333334}\n"
     ]
    }
   ],
   "source": [
    "import numpy as np\n",
    "import pandas as pd\n",
    "from sklearn.model_selection import train_test_split\n",
    "\n",
    "#Read data from CSV file\n",
    "df = pd.read_csv('diabetes.csv')\n",
    "\n",
    "#Isolate the features columns, normalise and convert to numpty array\n",
    "features = df.drop(['Outcome'], axis = 1 )\n",
    "features = ((features - features.mean())/features.std())\n",
    "X = np.array(features)\n",
    "\n",
    "#Isolate the classification (1/0) column\n",
    "Y = np.array(df['Outcome'])\n",
    "\n",
    "#Split features/classification to train/test data\n",
    "X_train, X_test, Y_train, Y_test = train_test_split(X, Y, random_state=0) \n",
    "d = model(X_train.T, Y_train.T, X_test.T, Y_test.T)\n",
    "\n",
    "print(d)\n",
    "                "
   ]
  },
  {
   "cell_type": "code",
   "execution_count": null,
   "metadata": {},
   "outputs": [],
   "source": []
  }
 ],
 "metadata": {
  "kernelspec": {
   "display_name": "Python 3",
   "language": "python",
   "name": "python3"
  },
  "language_info": {
   "codemirror_mode": {
    "name": "ipython",
    "version": 3
   },
   "file_extension": ".py",
   "mimetype": "text/x-python",
   "name": "python",
   "nbconvert_exporter": "python",
   "pygments_lexer": "ipython3",
   "version": "3.7.6"
  }
 },
 "nbformat": 4,
 "nbformat_minor": 4
}
