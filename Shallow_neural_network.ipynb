{
 "cells": [
  {
   "cell_type": "code",
   "execution_count": 12,
   "metadata": {
    "pycharm": {
     "is_executing": false
    }
   },
   "outputs": [],
   "source": [
    "import math\n",
    "import sys\n",
    "import numpy as np\n",
    "import pandas as pd\n",
    "from sklearn.model_selection import train_test_split\n",
    "from tqdm.notebook import tqdm"
   ]
  },
  {
   "cell_type": "code",
   "execution_count": 13,
   "metadata": {
    "pycharm": {
     "is_executing": false,
     "name": "#%%\n"
    }
   },
   "outputs": [],
   "source": [
    "def initialize_parameters (n_x, n_h, n_y):\n",
    "    return {\n",
    "        \"W1\":np.random.randn(n_h,n_x) * 0.01,\n",
    "        \"b1\":np.random.randn(n_h,1) * 0.01,\n",
    "        \"W2\":np.random.randn(n_y,n_h) * 0.01,\n",
    "        \"b2\":np.random.randn(n_y,1) * 0.01,\n",
    "    }"
   ]
  },
  {
   "cell_type": "code",
   "execution_count": 14,
   "metadata": {
    "pycharm": {
     "is_executing": false,
     "name": "#%%\n"
    }
   },
   "outputs": [],
   "source": [
    "initialize_parameters(4,3,1)\n",
    "\n",
    "def sigmoid(x):\n",
    "    return 1 / (1 + math.exp(-x))\n",
    "\n",
    "sigmoid_on_vector = np.vectorize(sigmoid)"
   ]
  },
  {
   "cell_type": "code",
   "execution_count": 15,
   "metadata": {
    "pycharm": {
     "is_executing": false,
     "name": "#%%\n"
    }
   },
   "outputs": [],
   "source": [
    "def forward_propagation(X, parameters):\n",
    "    #Hidden Layer\n",
    "    Z1 = np.dot(parameters[\"W1\"],X)+parameters[\"b1\"]\n",
    "    A1 = np.tanh(Z1)\n",
    "    #Output Layer\n",
    "    Z2 = np.dot(parameters[\"W2\"],A1)+parameters[\"b2\"]\n",
    "    A2 = sigmoid_on_vector(Z2)\n",
    "    cache = {\"Z1\":Z1,\"A1\":A1,\"Z2\":Z2,\"A2\":A2}\n",
    "    return A2, cache"
   ]
  },
  {
   "cell_type": "code",
   "execution_count": 16,
   "metadata": {
    "pycharm": {
     "is_executing": false,
     "name": "#%%\n"
    }
   },
   "outputs": [],
   "source": [
    "def backward_propagation(parameters, cache, X, Y):\n",
    "    samp_count = np.shape(X)[1]\n",
    "    #Output Layer\n",
    "    dZ2 = cache[\"A2\"] - Y\n",
    "    dW2 = (1 / samp_count) * np.dot(dZ2, cache[\"A1\"].T)\n",
    "    db2 = (1 / samp_count) * np.sum(dZ2, axis=1, keepdims=True)\n",
    "    #Hidden Layer\n",
    "    dZ1 = np.multiply(np.dot(parameters[\"W2\"].T, dZ2), 1 - np.power(cache[\"A1\"], 2))\n",
    "    dW1 = (1 / samp_count) * np.dot(dZ1, X.T)\n",
    "    db1 = (1 / samp_count) * np.sum(dZ1, axis=1, keepdims=True)\n",
    "    return {\"dW1\":dW1,\"dW2\":dW2,\"db1\":db1,\"db2\":db2}"
   ]
  },
  {
   "cell_type": "code",
   "execution_count": 17,
   "metadata": {
    "pycharm": {
     "is_executing": false,
     "name": "#%%\n"
    }
   },
   "outputs": [],
   "source": [
    "def update_parameters(parameters, grads, learning_rate = 1.2):\n",
    "    return {\n",
    "        \"W1\": parameters[\"W1\"] - learning_rate*grads[\"dW1\"],\n",
    "        \"W2\": parameters[\"W2\"] - learning_rate*grads[\"dW2\"],\n",
    "        \"b1\": parameters[\"b1\"] - learning_rate*grads[\"db1\"],\n",
    "        \"b2\": parameters[\"b2\"] - learning_rate*grads[\"db2\"],\n",
    "    }"
   ]
  },
  {
   "cell_type": "code",
   "execution_count": 18,
   "metadata": {
    "pycharm": {
     "is_executing": false,
     "name": "#%%\n"
    }
   },
   "outputs": [],
   "source": [
    "def cost_calculation(A2,Y):\n",
    "    samp_count = Y.shape[0]\n",
    "    cost = (- 1 / samp_count) * np.sum(Y * np.log(A2) + (1 - Y) * (np.log(1 - A2)))  # compute cost\n",
    "    return cost"
   ]
  },
  {
   "cell_type": "code",
   "execution_count": 19,
   "metadata": {
    "pycharm": {
     "is_executing": false,
     "name": "#%%\n"
    }
   },
   "outputs": [],
   "source": [
    "def prediction_accurecy(y_pred,y_true):\n",
    "    return np.mean(y_pred==y_true)"
   ]
  },
  {
   "cell_type": "code",
   "execution_count": 20,
   "metadata": {
    "pycharm": {
     "is_executing": false,
     "name": "#%%\n"
    }
   },
   "outputs": [],
   "source": [
    "def predict(parameters, X):\n",
    "    A2, cache = forward_propagation(X, parameters)\n",
    "    predictions = np.where(A2 > 0.5, 1., 0.)\n",
    "    return predictions"
   ]
  },
  {
   "cell_type": "code",
   "execution_count": 21,
   "metadata": {
    "pycharm": {
     "is_executing": false,
     "name": "#%%\n"
    }
   },
   "outputs": [],
   "source": [
    "def nn_model(X, Y, n_h, num_iterations = 10000):\n",
    "    X_train, X_test, Y_train, Y_test = train_test_split(X, Y, random_state=0)\n",
    "    # Transformation to the model\n",
    "    X_train, X_test, Y_train, Y_test = X_train.T, X_test.T, Y_train.T, Y_test.T\n",
    "    parameters = initialize_parameters(n_x=X_train.shape[0],n_h=n_h,n_y=1)\n",
    "    costs = []\n",
    "    for i in range(num_iterations):\n",
    "        A2, cache = forward_propagation(X_train,parameters)\n",
    "        cost = cost_calculation(A2,Y_train)\n",
    "        grads = backward_propagation(parameters,cache,X_train,Y_train)\n",
    "        parameters = update_parameters(parameters,grads)\n",
    "        costs.append(cost)\n",
    "        # if i % 100 == 0:\n",
    "        #     print (f\"Cost after iteration {i}: {cost}\")\n",
    "    #prediction and accuracy check        \n",
    "    Y_train_predict = predict(parameters,X_train)\n",
    "    train_acc = prediction_accurecy(Y_train_predict,Y_train)\n",
    "    Y_test_predict = predict(parameters,X_test)\n",
    "    test_acc = prediction_accurecy(Y_test_predict,Y_test)\n",
    "    parameters[\"train_accuracy\"] = train_acc\n",
    "    parameters[\"test_accuracy\"] = test_acc\n",
    "    return parameters"
   ]
  },
  {
   "cell_type": "code",
   "execution_count": null,
   "metadata": {
    "pycharm": {
     "is_executing": true,
     "name": "#%%\n"
    }
   },
   "outputs": [
    {
     "data": {
      "application/vnd.jupyter.widget-view+json": {
       "model_id": "76d6e595a3554c6aaa2597717b5fde91",
       "version_major": 2,
       "version_minor": 0
      },
      "text/plain": [
       "HBox(children=(FloatProgress(value=0.0, max=19.0), HTML(value='')))"
      ]
     },
     "metadata": {},
     "output_type": "display_data"
    },
    {
     "name": "stderr",
     "output_type": "stream",
     "text": [
      "C:\\Users\\motibz\\Anaconda3\\envs\\DM\\lib\\site-packages\\ipykernel_launcher.py:3: RuntimeWarning: divide by zero encountered in log\n",
      "  This is separate from the ipykernel package so we can avoid doing imports until\n",
      "C:\\Users\\motibz\\Anaconda3\\envs\\DM\\lib\\site-packages\\ipykernel_launcher.py:3: RuntimeWarning: invalid value encountered in multiply\n",
      "  This is separate from the ipykernel package so we can avoid doing imports until\n"
     ]
    }
   ],
   "source": [
    "df = pd.read_csv('diabetes.csv')\n",
    "features = df.drop(['Outcome'], axis = 1 )\n",
    "features = ((features - features.mean())/features.std())\n",
    "X = np.array(features)\n",
    "Y = np.array(df['Outcome'])\n",
    "scores = []\n",
    "for i in tqdm(range(1,20)):\n",
    "    res = nn_model(X=X,Y=Y,n_h=i)\n",
    "    scores.append({\"Hidden layer size\":i,\"Train score\":res[\"train_accuracy\"],\"Test score\":res[\"test_accuracy\"]})"
   ]
  },
  {
   "cell_type": "code",
   "execution_count": 23,
   "metadata": {
    "pycharm": {
     "is_executing": true,
     "name": "#%%\n"
    }
   },
   "outputs": [
    {
     "data": {
      "text/plain": [
       "<matplotlib.axes._subplots.AxesSubplot at 0x1b27fe99d08>"
      ]
     },
     "execution_count": 23,
     "metadata": {},
     "output_type": "execute_result"
    },
    {
     "data": {
      "image/png": "[encoded data removed]",
      "text/plain": [
       "<Figure size 432x288 with 1 Axes>"
      ]
     },
     "metadata": {
      "needs_background": "light"
     },
     "output_type": "display_data"
    }
   ],
   "source": [
    "score_rate_df = pd.DataFrame.from_dict(scores, orient='columns', dtype=None)\n",
    "score_rate_df.set_index(\"Hidden layer size\").plot()"
   ]
  },
  {
   "cell_type": "code",
   "execution_count": null,
   "metadata": {
    "pycharm": {
     "name": "#%%\n"
    }
   },
   "outputs": [],
   "source": [
    "\n"
   ]
  }
 ],
 "metadata": {
  "kernelspec": {
   "display_name": "Python 3",
   "language": "python",
   "name": "python3"
  },
  "language_info": {
   "codemirror_mode": {
    "name": "ipython",
    "version": 3
   },
   "file_extension": ".py",
   "mimetype": "text/x-python",
   "name": "python",
   "nbconvert_exporter": "python",
   "pygments_lexer": "ipython3",
   "version": "3.7.6"
  },
  "pycharm": {
   "stem_cell": {
    "cell_type": "raw",
    "metadata": {
     "collapsed": false
    },
    "source": []
   }
  }
 },
 "nbformat": 4,
 "nbformat_minor": 1
}
